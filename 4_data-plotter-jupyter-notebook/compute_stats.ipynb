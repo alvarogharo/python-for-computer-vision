{
 "cells": [
  {
   "cell_type": "markdown",
   "metadata": {},
   "source": [
    " # Data plotter\n",
    " \n",
    " ## Importing dependecies"
   ]
  },
  {
   "cell_type": "code",
   "execution_count": 7,
   "metadata": {},
   "outputs": [],
   "source": [
    "import os\n",
    "import numpy as np\n",
    "import pandas as pd\n",
    "import math\n",
    "from matplotlib import pyplot as plt\n"
   ]
  },
  {
   "cell_type": "markdown",
   "metadata": {},
   "source": [
    "## Setting some global vairiables"
   ]
  },
  {
   "cell_type": "code",
   "execution_count": 8,
   "metadata": {},
   "outputs": [],
   "source": [
    "path = \"./data\"\n",
    "data_1_name = \"detection\"\n",
    "data_2_name = \"groundtruth\"\n",
    "file_format = \".csv\"\n",
    "image_name = \"plot\"\n",
    "image_format = \".png\"\n",
    "output_folder = \"./output/\"\n",
    "image_counter = 1\n",
    "surface_thresholds = range(0, 300, 50)\n",
    "complexity_thresholds = range(5)"
   ]
  },
  {
   "cell_type": "markdown",
   "metadata": {},
   "source": [
    "## Reading data and creating output folder"
   ]
  },
  {
   "cell_type": "code",
   "execution_count": 9,
   "metadata": {},
   "outputs": [],
   "source": [
    "detection = pd.read_csv(path + \"/\" + data_1_name + file_format, na_values=\"-\")\n",
    "groundtruth = pd.read_csv(path + \"/\" + data_2_name + file_format, na_values=\"-\")\n",
    "\n",
    "detection_values = detection.values\n",
    "groundtruth_values = groundtruth.values\n",
    "\n",
    "headers = detection.columns\n",
    "\n",
    "if not os.path.exists(output_folder):\n",
    "    os.makedirs(output_folder)"
   ]
  },
  {
   "cell_type": "markdown",
   "metadata": {},
   "source": [
    "## Data transforming/plotting functions"
   ]
  },
  {
   "cell_type": "code",
   "execution_count": 5,
   "metadata": {},
   "outputs": [],
   "source": [
    "def create_ranges(thresholds):\n",
    "    thresholds_length = len(thresholds)\n",
    "    interv = [[thresholds[n], thresholds[n+1]] for n in range(thresholds_length) if n < thresholds_length-1]\n",
    "    interv.append([thresholds[thresholds_length-1], math.inf])\n",
    "    print(interv)\n",
    "    return interv\n",
    "\n",
    "\n",
    "def count_thresholds(ranges, graphtype=\"2D\"):\n",
    "    col_index = 1 if graphtype == \"2D\" else (2 if graphtype == \"3D\" else 3)\n",
    "    a = detection_values[:, col_index] - groundtruth_values[:, col_index]\n",
    "    total_values = len(a)\n",
    "    error_count = np.sum(np.isnan(a))\n",
    "    a = np.abs(np.where(np.isfinite(a), a, 0))\n",
    "    result = [(np.count_nonzero((a >= ranges[n][0]) & (a < ranges[n][1]))/total_values)*100 for n in range(len(ranges))]\n",
    "    result.append(error_count)\n",
    "    print(result)\n",
    "    return result\n",
    "\n",
    "\n",
    "def plot_results(values, labels, tittle=\"\", iscomplexity=False):\n",
    "    plt.title(tittle)\n",
    "    if not iscomplexity:\n",
    "        plt.xlabel('Squared feet error')\n",
    "    else:\n",
    "        plt.xlabel('Inches per foot')\n",
    "    plt.ylabel('Percentage of blueprints')\n",
    "    plt.bar(range(len(values)), values)\n",
    "    plt.xticks(range(len(values)), labels)\n",
    "    plt.ylim([0, 100])\n",
    "    plt.savefig(output_folder + image_name + str(image_counter) + image_format)\n",
    "    plt.show()\n",
    "\n",
    "\n",
    "def ranges_to_string(ranges):\n",
    "    return [\"[\" + str(ranges[n][0]) + \", \" + str(ranges[n][1]) + \")\" for n in range(len(ranges))]"
   ]
  },
  {
   "cell_type": "markdown",
   "metadata": {},
   "source": [
    "## Data plotting"
   ]
  },
  {
   "cell_type": "code",
   "execution_count": 6,
   "metadata": {},
   "outputs": [
    {
     "name": "stdout",
     "output_type": "stream",
     "text": [
      "[[0, 50], [50, 100], [100, 150], [150, 200], [200, 250], [250, inf]]\n",
      "[34.05017921146953, 14.336917562724013, 8.24372759856631, 6.451612903225806, 3.942652329749104, 32.97491039426524, 20]\n"
     ]
    },
    {
     "data": {
      "image/png": "[encoded data removed]",
      "text/plain": [
       "<Figure size 432x288 with 1 Axes>"
      ]
     },
     "metadata": {
      "needs_background": "light"
     },
     "output_type": "display_data"
    },
    {
     "name": "stdout",
     "output_type": "stream",
     "text": [
      "[10.03584229390681, 2.1505376344086025, 1.4336917562724014, 2.5089605734767026, 0.7168458781362007, 83.15412186379928, 20]\n"
     ]
    },
    {
     "data": {
      "image/png": "[encoded data removed]",
      "text/plain": [
       "<Figure size 432x288 with 1 Axes>"
      ]
     },
     "metadata": {
      "needs_background": "light"
     },
     "output_type": "display_data"
    },
    {
     "name": "stdout",
     "output_type": "stream",
     "text": [
      "[[0, 1], [1, 2], [2, 3], [3, 4], [4, inf]]\n",
      "[84.58781362007169, 6.093189964157706, 3.225806451612903, 1.0752688172043012, 5.017921146953405, 20]\n"
     ]
    },
    {
     "data": {
      "image/png": "[encoded data removed]",
      "text/plain": [
       "<Figure size 432x288 with 1 Axes>"
      ]
     },
     "metadata": {
      "needs_background": "light"
     },
     "output_type": "display_data"
    }
   ],
   "source": [
    "ranges = create_ranges(surface_thresholds)\n",
    "labels = ranges_to_string(ranges)\n",
    "labels.append(\"Errors\")\n",
    "#Plotting 2D\n",
    "results = count_thresholds(ranges)\n",
    "plot_results(results, labels, headers[1])\n",
    "image_counter += 1\n",
    "#Plotting 3D\n",
    "results = count_thresholds(ranges, \"3D\")\n",
    "plot_results(results, labels, headers[2])\n",
    "image_counter += 1\n",
    "#Plotting Complexity\n",
    "ranges = create_ranges(complexity_thresholds)\n",
    "labels = ranges_to_string(ranges)\n",
    "labels.append(\"Errors\")\n",
    "results = count_thresholds(ranges, \"Complexity\")\n",
    "plot_results(results, labels, headers[3], True)"
   ]
  }
 ],
 "metadata": {
  "kernelspec": {
   "display_name": "Python 3",
   "language": "python",
   "name": "python3"
  },
  "language_info": {
   "codemirror_mode": {
    "name": "ipython",
    "version": 3
   },
   "file_extension": ".py",
   "mimetype": "text/x-python",
   "name": "python",
   "nbconvert_exporter": "python",
   "pygments_lexer": "ipython3",
   "version": "3.6.8"
  },
  "pycharm": {
   "stem_cell": {
    "cell_type": "raw",
    "source": [],
    "metadata": {
     "collapsed": false
    }
   }
  }
 },
 "nbformat": 4,
 "nbformat_minor": 2
}